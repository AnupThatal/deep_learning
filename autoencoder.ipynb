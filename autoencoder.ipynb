{
 "cells": [
  {
   "cell_type": "code",
   "execution_count": 1,
   "metadata": {},
   "outputs": [],
   "source": [
    "import pandas as pd"
   ]
  },
  {
   "cell_type": "code",
   "execution_count": 2,
   "metadata": {},
   "outputs": [],
   "source": [
    "import numpy as np \n",
    "import matplotlib.pyplot as plt"
   ]
  },
  {
   "cell_type": "code",
   "execution_count": 4,
   "metadata": {},
   "outputs": [],
   "source": [
    "from sklearn.datasets import make_blobs\n",
    "df=make_blobs(n_samples=100,n_features=2,cluster_std=1.0,centers=2,random_state=100)"
   ]
  },
  {
   "cell_type": "code",
   "execution_count": 6,
   "metadata": {},
   "outputs": [],
   "source": [
    "X,y=df"
   ]
  },
  {
   "cell_type": "code",
   "execution_count": 7,
   "metadata": {},
   "outputs": [
    {
     "data": {
      "text/plain": [
       "array([[ 3.36818459e-01, -3.40287961e+00],\n",
       "       [-1.08726796e+00,  5.80147972e+00],\n",
       "       [-1.93336328e+00,  5.70953908e+00],\n",
       "       [-1.63584937e+00,  8.88579630e+00],\n",
       "       [ 5.41860777e-01, -4.37693628e+00],\n",
       "       [ 2.66345400e-01,  7.40859703e+00],\n",
       "       [ 1.64692124e+00, -4.00437943e+00],\n",
       "       [ 5.36321701e-01, -5.12183028e+00],\n",
       "       [ 4.10071850e-01, -3.99744881e+00],\n",
       "       [-3.39121202e-01,  8.97323488e+00],\n",
       "       [ 1.84941962e+00, -3.91839346e+00],\n",
       "       [-7.56585997e-01,  5.28608375e+00],\n",
       "       [-8.36552370e-01, -5.56887330e+00],\n",
       "       [ 2.84503785e-01, -3.61576523e+00],\n",
       "       [ 1.44867217e+00, -5.53713539e+00],\n",
       "       [ 2.74467226e+00, -4.80951565e+00],\n",
       "       [ 1.59909918e+00, -3.07105617e+00],\n",
       "       [-1.31673099e+00,  6.54706372e+00],\n",
       "       [-1.68442974e+00,  7.91278699e+00],\n",
       "       [ 1.10594346e+00, -4.41906375e+00],\n",
       "       [ 2.48708050e+00, -2.89100712e+00],\n",
       "       [ 5.87148931e-03, -3.18314256e+00],\n",
       "       [ 1.61854360e+00, -4.88855923e+00],\n",
       "       [-7.62592530e-01,  7.32519908e+00],\n",
       "       [-6.98588694e-01, -3.52763818e+00],\n",
       "       [ 1.11746530e-01, -3.61615829e+00],\n",
       "       [-1.04334882e+00,  7.16550989e+00],\n",
       "       [ 6.83084725e-01, -6.91976383e+00],\n",
       "       [ 1.05261753e+00, -3.49553010e+00],\n",
       "       [-2.10963123e+00,  8.47168937e+00],\n",
       "       [ 1.54081964e+00, -4.53702344e+00],\n",
       "       [ 2.70003492e+00, -4.42959486e+00],\n",
       "       [ 6.16219697e-01, -5.27504804e+00],\n",
       "       [-1.82947923e+00,  5.74778105e+00],\n",
       "       [-2.21406638e+00,  6.30414753e+00],\n",
       "       [-7.45479667e-01, -2.96189843e+00],\n",
       "       [ 7.88487590e-01, -5.32234378e+00],\n",
       "       [-2.02407808e+00,  6.67946253e+00],\n",
       "       [-2.90664753e+00,  5.79835066e+00],\n",
       "       [-1.92546452e+00,  5.53701971e+00],\n",
       "       [-2.13385599e-01,  7.84779827e+00],\n",
       "       [-7.19473257e-02, -5.26054466e+00],\n",
       "       [ 7.89005756e-01,  6.73031309e+00],\n",
       "       [-1.37722038e+00,  6.91773657e+00],\n",
       "       [-8.37853170e-01, -4.06344834e+00],\n",
       "       [-1.96557020e+00,  7.54469557e+00],\n",
       "       [-1.20859872e+00,  5.21062268e+00],\n",
       "       [-2.72690232e+00,  6.73825748e+00],\n",
       "       [-2.80603999e+00,  6.99066209e+00],\n",
       "       [ 1.55822031e+00, -3.74572223e+00],\n",
       "       [ 2.89273011e-01, -5.63206350e+00],\n",
       "       [-3.19918761e-01, -4.98235849e+00],\n",
       "       [-2.92469111e+00,  6.25476272e+00],\n",
       "       [ 4.33614078e-01,  5.44808653e+00],\n",
       "       [ 2.16784691e+00, -6.16570792e+00],\n",
       "       [ 1.89502028e+00, -5.86480291e+00],\n",
       "       [-2.72740300e-01,  6.66523797e+00],\n",
       "       [ 2.05772110e+00, -6.12322912e+00],\n",
       "       [-9.17624916e-01,  6.45845823e+00],\n",
       "       [-7.67430564e-01, -5.47682218e+00],\n",
       "       [-3.46772942e+00,  6.76072133e+00],\n",
       "       [ 1.09049844e+00, -5.87582929e+00],\n",
       "       [-1.15211263e-01, -4.07510454e+00],\n",
       "       [ 1.08927851e+00, -5.50265563e+00],\n",
       "       [-6.15050479e-01,  7.65521577e+00],\n",
       "       [ 4.29963213e-01, -5.55093054e+00],\n",
       "       [ 1.61855217e+00, -5.73960464e+00],\n",
       "       [-7.30021881e-01,  6.45740173e+00],\n",
       "       [-1.37939973e+00,  7.84488351e+00],\n",
       "       [-3.01723335e+00,  7.00340678e+00],\n",
       "       [-9.73089464e-01, -4.06651907e+00],\n",
       "       [-4.88300213e-01, -5.66504681e+00],\n",
       "       [-3.52483690e+00,  6.81598206e+00],\n",
       "       [-9.86650380e-01,  6.87917724e+00],\n",
       "       [ 7.65227534e-02,  7.58891330e+00],\n",
       "       [ 9.76962304e-01, -3.92480271e+00],\n",
       "       [ 5.65144983e-01,  6.55222496e+00],\n",
       "       [-3.00736857e+00,  5.70163667e+00],\n",
       "       [-1.87511018e+00,  5.62449961e+00],\n",
       "       [-1.28725738e+00,  6.21060091e+00],\n",
       "       [-9.05224646e-01,  5.98849223e+00],\n",
       "       [ 3.23659674e-01, -5.10078403e+00],\n",
       "       [-1.74836105e+00,  5.46645575e+00],\n",
       "       [-5.60643409e-01,  6.87612506e+00],\n",
       "       [ 6.78603005e-01, -4.17761085e+00],\n",
       "       [ 1.93975803e-01,  6.17337188e+00],\n",
       "       [-3.05026421e+00,  8.94223661e+00],\n",
       "       [-4.15961535e-01,  6.66600489e+00],\n",
       "       [-7.72653016e-01,  7.33138990e+00],\n",
       "       [-2.10521664e+00, -4.39929502e+00],\n",
       "       [-2.12627756e+00,  7.65870629e+00],\n",
       "       [ 7.92075370e-01, -4.42865470e+00],\n",
       "       [-1.75853685e+00,  6.44534621e+00],\n",
       "       [-1.51854685e+00,  6.35232464e+00],\n",
       "       [ 9.76970826e-01, -4.40432866e+00],\n",
       "       [-1.19228021e+00,  6.14310847e+00],\n",
       "       [ 8.75413399e-01, -5.04555103e+00],\n",
       "       [ 1.48113772e+00, -3.69640708e+00],\n",
       "       [ 2.90270640e+00, -4.98332671e+00],\n",
       "       [-1.36995537e-02, -4.41397335e+00]])"
      ]
     },
     "execution_count": 7,
     "metadata": {},
     "output_type": "execute_result"
    }
   ],
   "source": [
    "X"
   ]
  },
  {
   "cell_type": "code",
   "execution_count": 13,
   "metadata": {},
   "outputs": [],
   "source": [
    "z_noise=np.random.normal(size=len(X))\n",
    "z_noise=pd.Series(z_noise)"
   ]
  },
  {
   "cell_type": "code",
   "execution_count": 14,
   "metadata": {},
   "outputs": [
    {
     "data": {
      "text/plain": [
       "0     0.254289\n",
       "1     0.592480\n",
       "2    -1.396485\n",
       "3    -1.070839\n",
       "4    -0.778332\n",
       "        ...   \n",
       "95   -0.142400\n",
       "96   -1.323575\n",
       "97    0.665890\n",
       "98   -0.262321\n",
       "99   -1.402984\n",
       "Length: 100, dtype: float64"
      ]
     },
     "execution_count": 14,
     "metadata": {},
     "output_type": "execute_result"
    }
   ],
   "source": [
    "z_noise"
   ]
  },
  {
   "cell_type": "code",
   "execution_count": 17,
   "metadata": {},
   "outputs": [],
   "source": [
    "df=pd.DataFrame(X,y)"
   ]
  },
  {
   "cell_type": "code",
   "execution_count": 19,
   "metadata": {},
   "outputs": [],
   "source": [
    "df['noise']=z_noise"
   ]
  },
  {
   "cell_type": "code",
   "execution_count": 20,
   "metadata": {},
   "outputs": [
    {
     "data": {
      "text/html": [
       "<div>\n",
       "<style scoped>\n",
       "    .dataframe tbody tr th:only-of-type {\n",
       "        vertical-align: middle;\n",
       "    }\n",
       "\n",
       "    .dataframe tbody tr th {\n",
       "        vertical-align: top;\n",
       "    }\n",
       "\n",
       "    .dataframe thead th {\n",
       "        text-align: right;\n",
       "    }\n",
       "</style>\n",
       "<table border=\"1\" class=\"dataframe\">\n",
       "  <thead>\n",
       "    <tr style=\"text-align: right;\">\n",
       "      <th></th>\n",
       "      <th>0</th>\n",
       "      <th>1</th>\n",
       "      <th>noise</th>\n",
       "    </tr>\n",
       "  </thead>\n",
       "  <tbody>\n",
       "    <tr>\n",
       "      <th>0</th>\n",
       "      <td>0.336818</td>\n",
       "      <td>-3.402880</td>\n",
       "      <td>0.254289</td>\n",
       "    </tr>\n",
       "    <tr>\n",
       "      <th>1</th>\n",
       "      <td>-1.087268</td>\n",
       "      <td>5.801480</td>\n",
       "      <td>0.592480</td>\n",
       "    </tr>\n",
       "    <tr>\n",
       "      <th>1</th>\n",
       "      <td>-1.933363</td>\n",
       "      <td>5.709539</td>\n",
       "      <td>0.592480</td>\n",
       "    </tr>\n",
       "    <tr>\n",
       "      <th>1</th>\n",
       "      <td>-1.635849</td>\n",
       "      <td>8.885796</td>\n",
       "      <td>0.592480</td>\n",
       "    </tr>\n",
       "    <tr>\n",
       "      <th>0</th>\n",
       "      <td>0.541861</td>\n",
       "      <td>-4.376936</td>\n",
       "      <td>0.254289</td>\n",
       "    </tr>\n",
       "    <tr>\n",
       "      <th>...</th>\n",
       "      <td>...</td>\n",
       "      <td>...</td>\n",
       "      <td>...</td>\n",
       "    </tr>\n",
       "    <tr>\n",
       "      <th>1</th>\n",
       "      <td>-1.192280</td>\n",
       "      <td>6.143108</td>\n",
       "      <td>0.592480</td>\n",
       "    </tr>\n",
       "    <tr>\n",
       "      <th>0</th>\n",
       "      <td>0.875413</td>\n",
       "      <td>-5.045551</td>\n",
       "      <td>0.254289</td>\n",
       "    </tr>\n",
       "    <tr>\n",
       "      <th>0</th>\n",
       "      <td>1.481138</td>\n",
       "      <td>-3.696407</td>\n",
       "      <td>0.254289</td>\n",
       "    </tr>\n",
       "    <tr>\n",
       "      <th>0</th>\n",
       "      <td>2.902706</td>\n",
       "      <td>-4.983327</td>\n",
       "      <td>0.254289</td>\n",
       "    </tr>\n",
       "    <tr>\n",
       "      <th>0</th>\n",
       "      <td>-0.013700</td>\n",
       "      <td>-4.413973</td>\n",
       "      <td>0.254289</td>\n",
       "    </tr>\n",
       "  </tbody>\n",
       "</table>\n",
       "<p>100 rows × 3 columns</p>\n",
       "</div>"
      ],
      "text/plain": [
       "           0         1     noise\n",
       "0   0.336818 -3.402880  0.254289\n",
       "1  -1.087268  5.801480  0.592480\n",
       "1  -1.933363  5.709539  0.592480\n",
       "1  -1.635849  8.885796  0.592480\n",
       "0   0.541861 -4.376936  0.254289\n",
       "..       ...       ...       ...\n",
       "1  -1.192280  6.143108  0.592480\n",
       "0   0.875413 -5.045551  0.254289\n",
       "0   1.481138 -3.696407  0.254289\n",
       "0   2.902706 -4.983327  0.254289\n",
       "0  -0.013700 -4.413973  0.254289\n",
       "\n",
       "[100 rows x 3 columns]"
      ]
     },
     "execution_count": 20,
     "metadata": {},
     "output_type": "execute_result"
    }
   ],
   "source": [
    "df"
   ]
  },
  {
   "cell_type": "code",
   "execution_count": 21,
   "metadata": {},
   "outputs": [],
   "source": [
    "df.columns=['x','y','noise']"
   ]
  },
  {
   "cell_type": "code",
   "execution_count": 22,
   "metadata": {},
   "outputs": [
    {
     "data": {
      "text/html": [
       "<div>\n",
       "<style scoped>\n",
       "    .dataframe tbody tr th:only-of-type {\n",
       "        vertical-align: middle;\n",
       "    }\n",
       "\n",
       "    .dataframe tbody tr th {\n",
       "        vertical-align: top;\n",
       "    }\n",
       "\n",
       "    .dataframe thead th {\n",
       "        text-align: right;\n",
       "    }\n",
       "</style>\n",
       "<table border=\"1\" class=\"dataframe\">\n",
       "  <thead>\n",
       "    <tr style=\"text-align: right;\">\n",
       "      <th></th>\n",
       "      <th>x</th>\n",
       "      <th>y</th>\n",
       "      <th>noise</th>\n",
       "    </tr>\n",
       "  </thead>\n",
       "  <tbody>\n",
       "    <tr>\n",
       "      <th>0</th>\n",
       "      <td>0.336818</td>\n",
       "      <td>-3.402880</td>\n",
       "      <td>0.254289</td>\n",
       "    </tr>\n",
       "    <tr>\n",
       "      <th>1</th>\n",
       "      <td>-1.087268</td>\n",
       "      <td>5.801480</td>\n",
       "      <td>0.592480</td>\n",
       "    </tr>\n",
       "    <tr>\n",
       "      <th>1</th>\n",
       "      <td>-1.933363</td>\n",
       "      <td>5.709539</td>\n",
       "      <td>0.592480</td>\n",
       "    </tr>\n",
       "    <tr>\n",
       "      <th>1</th>\n",
       "      <td>-1.635849</td>\n",
       "      <td>8.885796</td>\n",
       "      <td>0.592480</td>\n",
       "    </tr>\n",
       "    <tr>\n",
       "      <th>0</th>\n",
       "      <td>0.541861</td>\n",
       "      <td>-4.376936</td>\n",
       "      <td>0.254289</td>\n",
       "    </tr>\n",
       "    <tr>\n",
       "      <th>...</th>\n",
       "      <td>...</td>\n",
       "      <td>...</td>\n",
       "      <td>...</td>\n",
       "    </tr>\n",
       "    <tr>\n",
       "      <th>1</th>\n",
       "      <td>-1.192280</td>\n",
       "      <td>6.143108</td>\n",
       "      <td>0.592480</td>\n",
       "    </tr>\n",
       "    <tr>\n",
       "      <th>0</th>\n",
       "      <td>0.875413</td>\n",
       "      <td>-5.045551</td>\n",
       "      <td>0.254289</td>\n",
       "    </tr>\n",
       "    <tr>\n",
       "      <th>0</th>\n",
       "      <td>1.481138</td>\n",
       "      <td>-3.696407</td>\n",
       "      <td>0.254289</td>\n",
       "    </tr>\n",
       "    <tr>\n",
       "      <th>0</th>\n",
       "      <td>2.902706</td>\n",
       "      <td>-4.983327</td>\n",
       "      <td>0.254289</td>\n",
       "    </tr>\n",
       "    <tr>\n",
       "      <th>0</th>\n",
       "      <td>-0.013700</td>\n",
       "      <td>-4.413973</td>\n",
       "      <td>0.254289</td>\n",
       "    </tr>\n",
       "  </tbody>\n",
       "</table>\n",
       "<p>100 rows × 3 columns</p>\n",
       "</div>"
      ],
      "text/plain": [
       "           x         y     noise\n",
       "0   0.336818 -3.402880  0.254289\n",
       "1  -1.087268  5.801480  0.592480\n",
       "1  -1.933363  5.709539  0.592480\n",
       "1  -1.635849  8.885796  0.592480\n",
       "0   0.541861 -4.376936  0.254289\n",
       "..       ...       ...       ...\n",
       "1  -1.192280  6.143108  0.592480\n",
       "0   0.875413 -5.045551  0.254289\n",
       "0   1.481138 -3.696407  0.254289\n",
       "0   2.902706 -4.983327  0.254289\n",
       "0  -0.013700 -4.413973  0.254289\n",
       "\n",
       "[100 rows x 3 columns]"
      ]
     },
     "execution_count": 22,
     "metadata": {},
     "output_type": "execute_result"
    }
   ],
   "source": [
    "df"
   ]
  },
  {
   "cell_type": "code",
   "execution_count": 25,
   "metadata": {},
   "outputs": [
    {
     "data": {
      "text/plain": [
       "<matplotlib.collections.PathCollection at 0x7f3d3890dd00>"
      ]
     },
     "execution_count": 25,
     "metadata": {},
     "output_type": "execute_result"
    },
    {
     "data": {
      "image/png": "[encoded data removed]",
      "text/plain": [
       "<Figure size 864x576 with 1 Axes>"
      ]
     },
     "metadata": {
      "needs_background": "light"
     },
     "output_type": "display_data"
    }
   ],
   "source": [
    "plt.figure(figsize=(12,8))\n",
    "plt.scatter(df['x'],df['y'])"
   ]
  },
  {
   "cell_type": "code",
   "execution_count": 53,
   "metadata": {},
   "outputs": [],
   "source": [
    "import seaborn as sns"
   ]
  },
  {
   "cell_type": "code",
   "execution_count": 76,
   "metadata": {},
   "outputs": [],
   "source": [
    "from tensorflow.keras.layers import Dense\n",
    "from tensorflow.keras.models import Sequential"
   ]
  },
  {
   "cell_type": "code",
   "execution_count": 86,
   "metadata": {},
   "outputs": [],
   "source": [
    "encoder=Sequential()\n",
    "\n",
    "encoder.add(Dense(2,activation='relu',input_shape=[3]))\n",
    "\n",
    "decoder=Sequential()\n",
    "\n",
    "decoder.add(Dense(3,activation='relu',input_shape=[2]))"
   ]
  },
  {
   "cell_type": "code",
   "execution_count": 87,
   "metadata": {},
   "outputs": [],
   "source": [
    "autoencoder=Sequential([encoder,decoder])"
   ]
  },
  {
   "cell_type": "code",
   "execution_count": 88,
   "metadata": {},
   "outputs": [],
   "source": [
    "autoencoder.compile(optimizer='adam',loss='mse')"
   ]
  },
  {
   "cell_type": "code",
   "execution_count": 89,
   "metadata": {},
   "outputs": [],
   "source": [
    "from sklearn.preprocessing import MinMaxScaler\n",
    "minmax=MinMaxScaler()"
   ]
  },
  {
   "cell_type": "code",
   "execution_count": 90,
   "metadata": {},
   "outputs": [],
   "source": [
    "scaled_df=minmax.fit_transform(df)"
   ]
  },
  {
   "cell_type": "code",
   "execution_count": 91,
   "metadata": {},
   "outputs": [
    {
     "name": "stdout",
     "output_type": "stream",
     "text": [
      "Epoch 1/5\n",
      "4/4 [==============================] - 0s 13ms/step - loss: 0.3799\n",
      "Epoch 2/5\n",
      "4/4 [==============================] - 0s 4ms/step - loss: 0.3782\n",
      "Epoch 3/5\n",
      "4/4 [==============================] - 0s 5ms/step - loss: 0.3764\n",
      "Epoch 4/5\n",
      "4/4 [==============================] - 0s 9ms/step - loss: 0.3749\n",
      "Epoch 5/5\n",
      "4/4 [==============================] - 0s 5ms/step - loss: 0.3733\n"
     ]
    },
    {
     "data": {
      "text/plain": [
       "<tensorflow.python.keras.callbacks.History at 0x7f3cac7158e0>"
      ]
     },
     "execution_count": 91,
     "metadata": {},
     "output_type": "execute_result"
    }
   ],
   "source": [
    "autoencoder.fit(scaled_df,scaled_df,epochs=5)"
   ]
  },
  {
   "cell_type": "code",
   "execution_count": 97,
   "metadata": {},
   "outputs": [],
   "source": [
    "encoder_2dim=autoencoder.predict(scaled_df)"
   ]
  },
  {
   "cell_type": "code",
   "execution_count": 98,
   "metadata": {},
   "outputs": [
    {
     "data": {
      "text/plain": [
       "(100, 3)"
      ]
     },
     "execution_count": 98,
     "metadata": {},
     "output_type": "execute_result"
    }
   ],
   "source": [
    "encoder_2dim.shape"
   ]
  },
  {
   "cell_type": "code",
   "execution_count": 96,
   "metadata": {},
   "outputs": [
    {
     "data": {
      "text/plain": [
       "(100, 3)"
      ]
     },
     "execution_count": 96,
     "metadata": {},
     "output_type": "execute_result"
    }
   ],
   "source": [
    "scaled_df.shape"
   ]
  },
  {
   "cell_type": "code",
   "execution_count": 99,
   "metadata": {},
   "outputs": [
    {
     "data": {
      "text/plain": [
       "array([[-0.        ,  0.25979346, -0.        ],\n",
       "       [-0.        ,  0.0846673 , -0.        ],\n",
       "       [-0.        ,  0.04158616, -0.        ],\n",
       "       [-0.        ,  0.09613524, -0.        ],\n",
       "       [-0.        ,  0.2577474 , -0.        ],\n",
       "       [-0.        ,  0.1718874 , -0.        ],\n",
       "       [-0.        ,  0.3171785 , -0.        ],\n",
       "       [-0.        ,  0.24813774, -0.        ],\n",
       "       [-0.        ,  0.25597233, -0.        ],\n",
       "       [-0.        ,  0.16149144, -0.        ],\n",
       "       [-0.        ,  0.32829106, -0.        ],\n",
       "       [-0.        ,  0.09459545, -0.        ],\n",
       "       [-0.        ,  0.17450146, -0.        ],\n",
       "       [-0.        ,  0.25453305, -0.        ],\n",
       "       [-0.        ,  0.28814524, -0.        ],\n",
       "       [-0.        ,  0.36148828, -0.        ],\n",
       "       [-0.        ,  0.32650524, -0.        ],\n",
       "       [-0.        ,  0.08263989, -0.        ],\n",
       "       [-0.        ,  0.08153384, -0.        ],\n",
       "       [-0.        ,  0.28517306, -0.        ],\n",
       "       [-0.        ,  0.37276626, -0.        ],\n",
       "       [-0.        ,  0.24614693, -0.        ],\n",
       "       [-0.        ,  0.3046915 , -0.        ],\n",
       "       [-0.        ,  0.11985242, -0.        ],\n",
       "       [-0.        ,  0.20691957, -0.        ],\n",
       "       [-0.        ,  0.24596702, -0.        ],\n",
       "       [-0.        ,  0.10393807, -0.        ],\n",
       "       [-0.        ,  0.23839957, -0.        ],\n",
       "       [-0.        ,  0.29410434, -0.        ],\n",
       "       [-0.        ,  0.06746694, -0.        ],\n",
       "       [-0.        ,  0.30524534, -0.        ],\n",
       "       [-0.        ,  0.36403745, -0.        ],\n",
       "       [-0.        ,  0.250177  , -0.        ],\n",
       "       [-0.        ,  0.04721348, -0.        ],\n",
       "       [-0.        ,  0.03512747, -0.        ],\n",
       "       [-0.        ,  0.21168582, -0.        ],\n",
       "       [-0.        ,  0.25812113, -0.        ],\n",
       "       [-0.        ,  0.04924602, -0.        ],\n",
       "       [ 0.        ,  0.01809971,  0.        ],\n",
       "       [-0.        ,  0.03981555, -0.        ],\n",
       "       [-0.        ,  0.15361811, -0.        ],\n",
       "       [-0.        ,  0.2162561 , -0.        ],\n",
       "       [-0.        ,  0.18928781, -0.        ],\n",
       "       [-0.        ,  0.08428766, -0.        ],\n",
       "       [-0.        ,  0.19330332, -0.        ],\n",
       "       [-0.        ,  0.06298871, -0.        ],\n",
       "       [-0.        ,  0.07124987, -0.        ],\n",
       "       [ 0.        ,  0.01809971,  0.        ],\n",
       "       [ 0.        ,  0.01809971,  0.        ],\n",
       "       [-0.        ,  0.31602442, -0.        ],\n",
       "       [-0.        ,  0.22950071, -0.        ],\n",
       "       [-0.        ,  0.20745398, -0.        ],\n",
       "       [ 0.        ,  0.01809971,  0.        ],\n",
       "       [-0.        ,  0.15560699, -0.        ],\n",
       "       [-0.        ,  0.31590712, -0.        ],\n",
       "       [-0.        ,  0.306158  , -0.        ],\n",
       "       [-0.        ,  0.13585664, -0.        ],\n",
       "       [-0.        ,  0.31098217, -0.        ],\n",
       "       [-0.        ,  0.10130748, -0.        ],\n",
       "       [-0.        ,  0.17908044, -0.        ],\n",
       "       [ 0.        ,  0.01809971,  0.        ],\n",
       "       [-0.        ,  0.26615113, -0.        ],\n",
       "       [-0.        ,  0.2289683 , -0.        ],\n",
       "       [-0.        ,  0.2707674 , -0.        ],\n",
       "       [-0.        ,  0.13129982, -0.        ],\n",
       "       [-0.        ,  0.23748946, -0.        ],\n",
       "       [-0.        ,  0.29402643, -0.        ],\n",
       "       [-0.        ,  0.11059106, -0.        ],\n",
       "       [-0.        ,  0.09579886, -0.        ],\n",
       "       [ 0.        ,  0.01809971,  0.        ],\n",
       "       [-0.        ,  0.1865631 , -0.        ],\n",
       "       [-0.        ,  0.1905541 , -0.        ],\n",
       "       [ 0.        ,  0.01809971,  0.        ],\n",
       "       [-0.        ,  0.10315941, -0.        ],\n",
       "       [-0.        ,  0.16474032, -0.        ],\n",
       "       [-0.        ,  0.28497547, -0.        ],\n",
       "       [-0.        ,  0.1759624 , -0.        ],\n",
       "       [ 0.        ,  0.01809971,  0.        ],\n",
       "       [-0.        ,  0.04340721, -0.        ],\n",
       "       [-0.        ,  0.07988386, -0.        ],\n",
       "       [-0.        ,  0.09603226, -0.        ],\n",
       "       [-0.        ,  0.23786286, -0.        ],\n",
       "       [-0.        ,  0.04770773, -0.        ],\n",
       "       [-0.        ,  0.12423227, -0.        ],\n",
       "       [-0.        ,  0.26702178, -0.        ],\n",
       "       [-0.        ,  0.15282097, -0.        ],\n",
       "       [-0.        ,  0.02675014, -0.        ],\n",
       "       [-0.        ,  0.1287688 , -0.        ],\n",
       "       [-0.        ,  0.11943147, -0.        ],\n",
       "       [-0.        ,  0.12628925, -0.        ],\n",
       "       [-0.        ,  0.05645354, -0.        ],\n",
       "       [-0.        ,  0.26949883, -0.        ],\n",
       "       [-0.        ,  0.05947113, -0.        ],\n",
       "       [-0.        ,  0.07019825, -0.        ],\n",
       "       [-0.        ,  0.27896637, -0.        ],\n",
       "       [-0.        ,  0.08374471, -0.        ],\n",
       "       [-0.        ,  0.26589763, -0.        ],\n",
       "       [-0.        ,  0.31282258, -0.        ],\n",
       "       [-0.        ,  0.36714154, -0.        ],\n",
       "       [-0.        ,  0.22975203, -0.        ]], dtype=float32)"
      ]
     },
     "execution_count": 99,
     "metadata": {},
     "output_type": "execute_result"
    }
   ],
   "source": [
    "encoder_2dim"
   ]
  },
  {
   "cell_type": "code",
   "execution_count": 100,
   "metadata": {},
   "outputs": [
    {
     "data": {
      "text/plain": [
       "array([[0.60079803, 0.22128513, 0.        ],\n",
       "       [0.37923804, 0.80043067, 1.        ],\n",
       "       [0.24760216, 0.79464569, 1.        ],\n",
       "       [0.29388951, 0.9944983 , 1.        ],\n",
       "       [0.6326986 , 0.15999671, 0.        ],\n",
       "       [0.5898338 , 0.90155175, 1.        ],\n",
       "       [0.80462439, 0.18343828, 0.        ],\n",
       "       [0.63183683, 0.1131274 , 0.        ],\n",
       "       [0.61219483, 0.18387436, 0.        ],\n",
       "       [0.49563504, 1.        , 1.        ],\n",
       "       [0.83612918, 0.18884859, 0.        ],\n",
       "       [0.43068569, 0.76800155, 1.        ],\n",
       "       [0.41824448, 0.0849991 , 0.        ],\n",
       "       [0.59265889, 0.2078902 , 0.        ],\n",
       "       [0.77378072, 0.08699607, 0.        ],\n",
       "       [0.97541298, 0.13277848, 0.        ],\n",
       "       [0.79718422, 0.24216372, 0.        ],\n",
       "       [0.34353808, 0.8473434 , 1.        ],\n",
       "       [0.28633135, 0.93327578, 1.        ],\n",
       "       [0.72045884, 0.15734602, 0.        ],\n",
       "       [0.93533674, 0.25349255, 0.        ],\n",
       "       [0.54930916, 0.23511115, 0.        ],\n",
       "       [0.80020939, 0.12780499, 0.        ],\n",
       "       [0.42975119, 0.89630429, 1.        ],\n",
       "       [0.43970893, 0.21343522, 0.        ],\n",
       "       [0.56578124, 0.20786546, 0.        ],\n",
       "       [0.386071  , 0.88625652, 1.        ],\n",
       "       [0.65467029, 0.        , 0.        ],\n",
       "       [0.71216236, 0.21545548, 0.        ],\n",
       "       [0.22017832, 0.96844236, 1.        ],\n",
       "       [0.78811706, 0.1499239 , 0.        ],\n",
       "       [0.96846828, 0.15668339, 0.        ],\n",
       "       [0.6442674 , 0.10348681, 0.        ],\n",
       "       [0.26376449, 0.7970519 , 1.        ],\n",
       "       [0.20393025, 0.83205892, 1.        ],\n",
       "       [0.43241362, 0.24903201, 0.        ],\n",
       "       [0.67106891, 0.10051093, 0.        ],\n",
       "       [0.23348872, 0.85567404, 1.        ],\n",
       "       [0.09617817, 0.80023378, 1.        ],\n",
       "       [0.24883106, 0.78379063, 1.        ],\n",
       "       [0.51519704, 0.92918664, 1.        ],\n",
       "       [0.53720207, 0.10439938, 0.        ],\n",
       "       [0.67114953, 0.85887359, 1.        ],\n",
       "       [0.33412712, 0.87066643, 1.        ],\n",
       "       [0.41804211, 0.17972162, 0.        ],\n",
       "       [0.2425914 , 0.91011518, 1.        ],\n",
       "       [0.36036135, 0.76325348, 1.        ],\n",
       "       [0.12414301, 0.85937346, 1.        ],\n",
       "       [0.11183074, 0.87525496, 1.        ],\n",
       "       [0.79082427, 0.1997132 , 0.        ],\n",
       "       [0.59340089, 0.08102312, 0.        ],\n",
       "       [0.49862257, 0.12190307, 0.        ],\n",
       "       [0.09337095, 0.82895159, 1.        ],\n",
       "       [0.61585754, 0.77819489, 1.        ],\n",
       "       [0.88567024, 0.04744579, 0.        ],\n",
       "       [0.84322375, 0.06637897, 0.        ],\n",
       "       [0.50596261, 0.85477902, 1.        ],\n",
       "       [0.86853682, 0.05011859, 0.        ],\n",
       "       [0.40563118, 0.84176827, 1.        ],\n",
       "       [0.42899849, 0.09079103, 0.        ],\n",
       "       [0.00888481, 0.8607869 , 1.        ],\n",
       "       [0.71805589, 0.06568518, 0.        ],\n",
       "       [0.53047105, 0.1789882 , 0.        ],\n",
       "       [0.71786609, 0.08916556, 0.        ],\n",
       "       [0.45270585, 0.9170692 , 1.        ],\n",
       "       [0.61528953, 0.08612807, 0.        ],\n",
       "       [0.80021072, 0.07425655, 0.        ],\n",
       "       [0.43481854, 0.8417018 , 1.        ],\n",
       "       [0.33378805, 0.92900324, 1.        ],\n",
       "       [0.07897318, 0.87605686, 1.        ],\n",
       "       [0.39700198, 0.17952841, 0.        ],\n",
       "       [0.47242571, 0.07894778, 0.        ],\n",
       "       [0.        , 0.86426395, 1.        ],\n",
       "       [0.39489217, 0.86824024, 1.        ],\n",
       "       [0.56030111, 0.9128974 , 1.        ],\n",
       "       [0.70039189, 0.18844531, 0.        ],\n",
       "       [0.63632117, 0.84766815, 1.        ],\n",
       "       [0.08050795, 0.79414846, 1.        ],\n",
       "       [0.25666521, 0.78929494, 1.        ],\n",
       "       [0.3481236 , 0.82617289, 1.        ],\n",
       "       [0.40756042, 0.81219764, 1.        ],\n",
       "       [0.59875078, 0.11445164, 0.        ],\n",
       "       [0.27638489, 0.77935069, 1.        ],\n",
       "       [0.46117052, 0.8680482 , 1.        ],\n",
       "       [0.65397302, 0.17253843, 0.        ],\n",
       "       [0.57857451, 0.82383041, 1.        ],\n",
       "       [0.07383423, 0.99804956, 1.        ],\n",
       "       [0.48368019, 0.85482727, 1.        ],\n",
       "       [0.42818597, 0.89669382, 1.        ],\n",
       "       [0.22086514, 0.15858988, 0.        ],\n",
       "       [0.21758848, 0.91728883, 1.        ],\n",
       "       [0.6716271 , 0.15674255, 0.        ],\n",
       "       [0.27480173, 0.84094325, 1.        ],\n",
       "       [0.31213948, 0.83509026, 1.        ],\n",
       "       [0.70039322, 0.15827316, 0.        ],\n",
       "       [0.36290019, 0.82192622, 1.        ],\n",
       "       [0.68459287, 0.11792695, 0.        ],\n",
       "       [0.77883172, 0.20281615, 0.        ],\n",
       "       [1.        , 0.12184215, 0.        ],\n",
       "       [0.54626429, 0.15766631, 0.        ]])"
      ]
     },
     "execution_count": 100,
     "metadata": {},
     "output_type": "execute_result"
    }
   ],
   "source": [
    "scaled_df"
   ]
  },
  {
   "cell_type": "code",
   "execution_count": null,
   "metadata": {},
   "outputs": [],
   "source": []
  }
 ],
 "metadata": {
  "kernelspec": {
   "display_name": "Python 3",
   "language": "python",
   "name": "python3"
  },
  "language_info": {
   "codemirror_mode": {
    "name": "ipython",
    "version": 3
   },
   "file_extension": ".py",
   "mimetype": "text/x-python",
   "name": "python",
   "nbconvert_exporter": "python",
   "pygments_lexer": "ipython3",
   "version": "3.8.3"
  }
 },
 "nbformat": 4,
 "nbformat_minor": 4
}
